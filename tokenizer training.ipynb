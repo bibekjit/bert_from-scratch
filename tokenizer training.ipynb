{
 "cells": [
  {
   "cell_type": "code",
   "execution_count": 2,
   "id": "26496ace",
   "metadata": {},
   "outputs": [
    {
     "ename": "FileNotFoundError",
     "evalue": "[Errno 2] No such file or directory: 'raw_data.pkl'",
     "output_type": "error",
     "traceback": [
      "\u001b[0;31m---------------------------------------------------------------------------\u001b[0m",
      "\u001b[0;31mFileNotFoundError\u001b[0m                         Traceback (most recent call last)",
      "Cell \u001b[0;32mIn[2], line 10\u001b[0m\n\u001b[1;32m      5\u001b[0m \u001b[38;5;28;01mimport\u001b[39;00m \u001b[38;5;21;01mnumpy\u001b[39;00m \u001b[38;5;28;01mas\u001b[39;00m \u001b[38;5;21;01mnp\u001b[39;00m\n\u001b[1;32m      9\u001b[0m \u001b[38;5;66;03m# load pretraining data\u001b[39;00m\n\u001b[0;32m---> 10\u001b[0m \u001b[38;5;28;01mwith\u001b[39;00m \u001b[38;5;28;43mopen\u001b[39;49m\u001b[43m(\u001b[49m\u001b[38;5;124;43m'\u001b[39;49m\u001b[38;5;124;43mraw_data.pkl\u001b[39;49m\u001b[38;5;124;43m'\u001b[39;49m\u001b[43m,\u001b[49m\u001b[38;5;124;43m'\u001b[39;49m\u001b[38;5;124;43mrb\u001b[39;49m\u001b[38;5;124;43m'\u001b[39;49m\u001b[43m)\u001b[49m \u001b[38;5;28;01mas\u001b[39;00m f:\n\u001b[1;32m     11\u001b[0m     text \u001b[38;5;241m=\u001b[39m pickle\u001b[38;5;241m.\u001b[39mload(f)\n\u001b[1;32m     13\u001b[0m np\u001b[38;5;241m.\u001b[39mrandom\u001b[38;5;241m.\u001b[39mshuffle(text)  \n",
      "File \u001b[0;32m~/gpu_env/lib/python3.12/site-packages/IPython/core/interactiveshell.py:324\u001b[0m, in \u001b[0;36m_modified_open\u001b[0;34m(file, *args, **kwargs)\u001b[0m\n\u001b[1;32m    317\u001b[0m \u001b[38;5;28;01mif\u001b[39;00m file \u001b[38;5;129;01min\u001b[39;00m {\u001b[38;5;241m0\u001b[39m, \u001b[38;5;241m1\u001b[39m, \u001b[38;5;241m2\u001b[39m}:\n\u001b[1;32m    318\u001b[0m     \u001b[38;5;28;01mraise\u001b[39;00m \u001b[38;5;167;01mValueError\u001b[39;00m(\n\u001b[1;32m    319\u001b[0m         \u001b[38;5;124mf\u001b[39m\u001b[38;5;124m\"\u001b[39m\u001b[38;5;124mIPython won\u001b[39m\u001b[38;5;124m'\u001b[39m\u001b[38;5;124mt let you open fd=\u001b[39m\u001b[38;5;132;01m{\u001b[39;00mfile\u001b[38;5;132;01m}\u001b[39;00m\u001b[38;5;124m by default \u001b[39m\u001b[38;5;124m\"\u001b[39m\n\u001b[1;32m    320\u001b[0m         \u001b[38;5;124m\"\u001b[39m\u001b[38;5;124mas it is likely to crash IPython. If you know what you are doing, \u001b[39m\u001b[38;5;124m\"\u001b[39m\n\u001b[1;32m    321\u001b[0m         \u001b[38;5;124m\"\u001b[39m\u001b[38;5;124myou can use builtins\u001b[39m\u001b[38;5;124m'\u001b[39m\u001b[38;5;124m open.\u001b[39m\u001b[38;5;124m\"\u001b[39m\n\u001b[1;32m    322\u001b[0m     )\n\u001b[0;32m--> 324\u001b[0m \u001b[38;5;28;01mreturn\u001b[39;00m \u001b[43mio_open\u001b[49m\u001b[43m(\u001b[49m\u001b[43mfile\u001b[49m\u001b[43m,\u001b[49m\u001b[43m \u001b[49m\u001b[38;5;241;43m*\u001b[39;49m\u001b[43margs\u001b[49m\u001b[43m,\u001b[49m\u001b[43m \u001b[49m\u001b[38;5;241;43m*\u001b[39;49m\u001b[38;5;241;43m*\u001b[39;49m\u001b[43mkwargs\u001b[49m\u001b[43m)\u001b[49m\n",
      "\u001b[0;31mFileNotFoundError\u001b[0m: [Errno 2] No such file or directory: 'raw_data.pkl'"
     ]
    }
   ],
   "source": [
    "from tqdm.auto import tqdm\n",
    "from Bert.custom_tokenizer import BytePairEncodingTokenizer, WordPieceTokenizer\n",
    "import pickle\n",
    "import time\n",
    "import numpy as np\n",
    "\n",
    "\n",
    "\n",
    "# load pretraining data\n",
    "with open('raw_data.pkl','rb') as f:\n",
    "    text = pickle.load(f)\n",
    "\n",
    "np.random.shuffle(text)  \n",
    "    "
   ]
  },
  {
   "cell_type": "code",
   "execution_count": 3,
   "id": "52578843",
   "metadata": {
    "scrolled": false
   },
   "outputs": [
    {
     "name": "stdout",
     "output_type": "stream",
     "text": [
      "gareth is back in town , tall paul USER saxty ' s bring it on\n",
      "===============================================================\n",
      "iq is a cute romantic comedy featuring two great actors that seem to click well on screen . plot is a typical guy wrong for girl , guy gets girl format , but makes the solid point that one must love with the heart and not the the mind . addition of albert einstein and his band of geniuses provides excellent comic relief . overall , a good movie . not great , but good\n",
      "===============================================================\n",
      "chillin ' at home . watching gofield eat my food !\n",
      "===============================================================\n",
      "USER i like chivalry , it goes a long way .\n",
      "===============================================================\n",
      "USER i ' m gutted that rafa won ' t be there . doesn ' t seem the same to me .\n",
      "===============================================================\n",
      "never heard from renner oh well . off to airport .\n",
      "===============================================================\n",
      "slowly getin ready for vbs later . i was right , today has been awful\n",
      "===============================================================\n",
      "florida has produced the scorching heat i love outside rereading eclipse for now .\n",
      "===============================================================\n",
      "see who ?\n",
      "===============================================================\n",
      "twenty two - year - old shweta sharda , who was crowned the miss diva universe 2023 , was born in chandigarh and relocated to mumbai at the age of 16 . shweta is pursuing graduation through the indira gandhi national open university and has taken part in several dance reality shows , including dance india dance . she also featured in a music video with actor shantanu maheshwari .\n",
      "===============================================================\n"
     ]
    }
   ],
   "source": [
    "\n",
    "# pretraining data sample\n",
    "\n",
    "idx = np.random.randint(0,len(text),10)\n",
    "\n",
    "for i in idx:\n",
    "    original = text[i]\n",
    "    print(original)\n",
    "    print('===============================================================')"
   ]
  },
  {
   "cell_type": "code",
   "execution_count": 15,
   "id": "545b280d",
   "metadata": {},
   "outputs": [
    {
     "name": "stdout",
     "output_type": "stream",
     "text": [
      "training time : 1.14 minutes\n"
     ]
    }
   ],
   "source": [
    "\n",
    "# initialize wordpiece tokenizer\n",
    "\n",
    "tokenizer = WordPieceTokenizer(num_tokens=15000,max_word_count=150000)\n",
    "\n",
    "start = time.time()\n",
    "\n",
    "# create corpus\n",
    "\n",
    "tokenizer(text)\n",
    "\n",
    "# train tokenizer\n",
    "\n",
    "# data also include twitter handles and URLs which are normalized as USER and LINK\n",
    "# they are added as special tokens and not trained upon\n",
    "\n",
    "tokenizer.train(iterations=4,min_pair_freq=50,special_tokens=['USER','LINK'])\n",
    "\n",
    "end = time.time()\n",
    "\n",
    "print(f'training time : {round((end - start) / 60, 2)} minutes')\n",
    "\n",
    "# save tokenizer class as pkl file\n",
    "\n",
    "with open('wp_tok_en.pkl','wb') as f:\n",
    "    pickle.dump(tokenizer,f)"
   ]
  }
 ],
 "metadata": {
  "kernelspec": {
   "display_name": "Python 3 (ipykernel)",
   "language": "python",
   "name": "python3"
  },
  "language_info": {
   "codemirror_mode": {
    "name": "ipython",
    "version": 3
   },
   "file_extension": ".py",
   "mimetype": "text/x-python",
   "name": "python",
   "nbconvert_exporter": "python",
   "pygments_lexer": "ipython3",
   "version": "3.12.3"
  }
 },
 "nbformat": 4,
 "nbformat_minor": 5
}
