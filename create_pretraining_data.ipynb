{
 "cells": [
  {
   "cell_type": "code",
   "execution_count": 1,
   "id": "0016a491",
   "metadata": {},
   "outputs": [],
   "source": [
    "import numpy as np\n",
    "import seaborn as sb\n",
    "import pandas as pd\n",
    "import nltk\n",
    "from nltk.tokenize import sent_tokenize\n",
    "import matplotlib.pyplot as plt\n",
    "from tqdm.auto import tqdm\n",
    "import re, pickle\n",
    "import contractions as con\n",
    "from string import punctuation\n",
    "from Bert.custom_tokenizer import WordPieceTokenizer\n",
    "\n",
    "# load pretraining data\n",
    "\n",
    "with open('/home/bibek/dataset/raw_data.pkl','rb') as f:\n",
    "    text = pickle.load(f)"
   ]
  },
  {
   "cell_type": "code",
   "execution_count": 2,
   "id": "d89af4f8",
   "metadata": {},
   "outputs": [],
   "source": [
    "# load trained wordpiece tokenizer\n",
    "\n",
    "if __name__ == \"__main__\":\n",
    "\n",
    "    with open('wp_tok_en.pkl','rb') as f:\n",
    "        tok = pickle.load(f)\n",
    "        \n"
   ]
  },
  {
   "cell_type": "code",
   "execution_count": 5,
   "id": "265d78b7",
   "metadata": {},
   "outputs": [
    {
     "data": {
      "application/vnd.jupyter.widget-view+json": {
       "model_id": "cab3286f514843489d42122b56c7efcc",
       "version_major": 2,
       "version_minor": 0
      },
      "text/plain": [
       "  0%|          | 0/1012132 [00:00<?, ?it/s]"
      ]
     },
     "metadata": {},
     "output_type": "display_data"
    },
    {
     "data": {
      "application/vnd.jupyter.widget-view+json": {
       "model_id": "ae503512196947b898b778876a4e6974",
       "version_major": 2,
       "version_minor": 0
      },
      "text/plain": [
       "  0%|          | 0/1012132 [00:00<?, ?it/s]"
      ]
     },
     "metadata": {},
     "output_type": "display_data"
    },
    {
     "data": {
      "text/plain": [
       "(1217961, 2457569)"
      ]
     },
     "execution_count": 5,
     "metadata": {},
     "output_type": "execute_result"
    }
   ],
   "source": [
    "# data is split into short and long sequence of 32 and 128\n",
    "\n",
    "# function to split data\n",
    "\n",
    "def split_long_text(text,maxlen=200):\n",
    "    if len(text.split()) > maxlen:\n",
    "        sents = sent_tokenize(text)\n",
    "        sents = [s.replace('\\n','') for s in sents]\n",
    "        output = []\n",
    "        while True:\n",
    "        \n",
    "            tmp = []\n",
    "            REM = False\n",
    "            for i,s in enumerate(sents):\n",
    "                s = s.split()[:maxlen]\n",
    "                if len(tmp + s) <= maxlen:\n",
    "                    tmp.extend(s)\n",
    "                else:\n",
    "                    REM = True\n",
    "                    break\n",
    "                    \n",
    "            tmp = ' '.join(tmp)\n",
    "                    \n",
    "            output.append(tmp)\n",
    "        \n",
    "            if REM:\n",
    "                sents = sents[i:]\n",
    "            else:\n",
    "                break\n",
    "            \n",
    "            \n",
    "                \n",
    "        return output\n",
    "        \n",
    "            \n",
    "    \n",
    "    else:\n",
    "        return text\n",
    "         \n",
    "        \n",
    "    \n",
    "\n",
    "\n",
    "# data = []\n",
    "\n",
    "\n",
    "short_maxlen = 32\n",
    "long_maxlen = 128\n",
    "\n",
    "short_seq = []\n",
    "long_seq = []\n",
    "\n",
    "for t in tqdm(text):\n",
    "    x = split_long_text(t,short_maxlen-2)\n",
    "    if type(x) == list:\n",
    "        short_seq.extend(x)\n",
    "    else:\n",
    "        short_seq.append(x)\n",
    "        \n",
    "for t in tqdm(text):\n",
    "    x = split_long_text(t,long_maxlen-2)\n",
    "    if type(x) == list:\n",
    "        long_seq.extend(x)\n",
    "    else:\n",
    "        long_seq.append(x)\n",
    "    \n",
    "\n",
    "len(long_seq),len(short_seq)"
   ]
  },
  {
   "cell_type": "code",
   "execution_count": 6,
   "id": "7d5f22e7",
   "metadata": {},
   "outputs": [
    {
     "data": {
      "text/plain": [
       "('you set me up .', \"that ' s not\")"
      ]
     },
     "execution_count": 6,
     "metadata": {},
     "output_type": "execute_result"
    }
   ],
   "source": [
    "long_seq[100],short_seq[100]"
   ]
  },
  {
   "cell_type": "code",
   "execution_count": 7,
   "id": "f5fea810",
   "metadata": {},
   "outputs": [
    {
     "data": {
      "text/plain": [
       "(1217961, 2457569)"
      ]
     },
     "execution_count": 7,
     "metadata": {},
     "output_type": "execute_result"
    }
   ],
   "source": [
    "len(long_seq),len(short_seq)"
   ]
  },
  {
   "cell_type": "code",
   "execution_count": 8,
   "id": "8629f157",
   "metadata": {},
   "outputs": [
    {
     "data": {
      "application/vnd.jupyter.widget-view+json": {
       "model_id": "eaddf2ac49a94b4d9a3e23543596b4b2",
       "version_major": 2,
       "version_minor": 0
      },
      "text/plain": [
       "  0%|          | 0/2457569 [00:00<?, ?it/s]"
      ]
     },
     "metadata": {},
     "output_type": "display_data"
    },
    {
     "data": {
      "application/vnd.jupyter.widget-view+json": {
       "model_id": "6b2651fef1484f5793b7fbe1fee15298",
       "version_major": 2,
       "version_minor": 0
      },
      "text/plain": [
       "  0%|          | 0/1217961 [00:00<?, ?it/s]"
      ]
     },
     "metadata": {},
     "output_type": "display_data"
    }
   ],
   "source": [
    "from tqdm.auto import tqdm\n",
    "\n",
    "# tokenize sequences and keep only the ones with atleast 10 tokens\n",
    "\n",
    "tok.maxlen = 32\n",
    "short_seq = [tok.tokenize(x) for x in tqdm(short_seq)]\n",
    "short_seq = [x for x in short_seq if len(x) >= 10]\n",
    "\n",
    "\n",
    "tok.maxlen = 128\n",
    "long_seq = [tok.tokenize(x) for x in tqdm(long_seq)]\n",
    "long_seq = [x for x in long_seq if len(x) >= 10]\n"
   ]
  },
  {
   "cell_type": "code",
   "execution_count": 9,
   "id": "ab0c24f6",
   "metadata": {},
   "outputs": [
    {
     "name": "stdout",
     "output_type": "stream",
     "text": [
      "0.9991363191010683\n",
      "0.9990114674023951\n"
     ]
    }
   ],
   "source": [
    "# get percentage of samples with less than 5% unknown tokens \n",
    "\n",
    "print(len([x for x in long_seq if x.count(3)/len(x) <= 0.05])/len(long_seq))\n",
    "print(len([x for x in short_seq if x.count(3)/len(x) <= 0.05])/len(short_seq))"
   ]
  },
  {
   "cell_type": "code",
   "execution_count": 10,
   "id": "a5dc4c2e",
   "metadata": {},
   "outputs": [
    {
     "data": {
      "text/plain": [
       "<Axes: >"
      ]
     },
     "execution_count": 10,
     "metadata": {},
     "output_type": "execute_result"
    },
    {
     "data": {
      "image/png": "[encoded data removed]",
      "text/plain": [
       "<Figure size 640x480 with 1 Axes>"
      ]
     },
     "metadata": {},
     "output_type": "display_data"
    }
   ],
   "source": [
    "# plot unknown tokens percentage vs sequence length\n",
    "\n",
    "unk_count_long = [x.count(3)/len(x) for x in long_seq]\n",
    "unk_count_short = [x.count(3)/len(x) for x in short_seq]\n",
    "\n",
    "total_count_long = [len(x) for x in long_seq]\n",
    "total_count_short = [len(x) for x in short_seq]\n",
    "\n",
    "sb.lineplot(x=total_count_long,y=unk_count_long)\n",
    "\n"
   ]
  },
  {
   "cell_type": "code",
   "execution_count": 11,
   "id": "68280fd9",
   "metadata": {},
   "outputs": [
    {
     "data": {
      "text/plain": [
       "<Axes: >"
      ]
     },
     "execution_count": 11,
     "metadata": {},
     "output_type": "execute_result"
    },
    {
     "data": {
      "image/png": "[encoded data removed]",
      "text/plain": [
       "<Figure size 640x480 with 1 Axes>"
      ]
     },
     "metadata": {},
     "output_type": "display_data"
    }
   ],
   "source": [
    "sb.lineplot(x=total_count_short,y=unk_count_short)"
   ]
  },
  {
   "cell_type": "code",
   "execution_count": 12,
   "id": "33f0138c",
   "metadata": {},
   "outputs": [],
   "source": [
    "\n",
    "# keep only samples with less than 5% unknown tokens\n",
    "\n",
    "long_seq = [x for x in long_seq if x.count(3)/len(x) <= 0.05]\n",
    "short_seq = [x for x in short_seq if x.count(3)/len(x) <= 0.05]"
   ]
  },
  {
   "cell_type": "code",
   "execution_count": 14,
   "id": "9eee3324",
   "metadata": {},
   "outputs": [
    {
     "data": {
      "application/vnd.jupyter.widget-view+json": {
       "model_id": "c71203ad92ba47e881785f91379d0012",
       "version_major": 2,
       "version_minor": 0
      },
      "text/plain": [
       "  0%|          | 0/2354699 [00:00<?, ?it/s]"
      ]
     },
     "metadata": {},
     "output_type": "display_data"
    },
    {
     "data": {
      "application/vnd.jupyter.widget-view+json": {
       "model_id": "d2e6cc1f7936479aa7e62cdb3b026c20",
       "version_major": 2,
       "version_minor": 0
      },
      "text/plain": [
       "  0%|          | 0/1136012 [00:00<?, ?it/s]"
      ]
     },
     "metadata": {},
     "output_type": "display_data"
    }
   ],
   "source": [
    "# pad sequences\n",
    "\n",
    "tok.maxlen = 32\n",
    "short_seq = np.asarray([tok.add_padding(x) for x in tqdm(short_seq)],dtype=np.int16)\n",
    "\n",
    "tok.maxlen = 128\n",
    "long_seq = np.asarray([tok.add_padding(x) for x in tqdm(long_seq)],dtype=np.int16)\n"
   ]
  },
  {
   "cell_type": "code",
   "execution_count": 15,
   "id": "69cd4964",
   "metadata": {},
   "outputs": [
    {
     "data": {
      "text/plain": [
       "(1136012, 2354699)"
      ]
     },
     "execution_count": 15,
     "metadata": {},
     "output_type": "execute_result"
    }
   ],
   "source": [
    "# shuffle data\n",
    "\n",
    "np.random.shuffle(long_seq)\n",
    "np.random.shuffle(short_seq)\n",
    "\n",
    "len(long_seq),len(short_seq)"
   ]
  },
  {
   "cell_type": "code",
   "execution_count": 16,
   "id": "9e6e8529",
   "metadata": {},
   "outputs": [
    {
     "data": {
      "text/plain": [
       "(array([    1,  3541,  2534,  2567,  2588,  1145,  2784,   708,  2486,\n",
       "         8463,  1222,  2487,  2486, 15009,  3219,  2677, 15009,   499,\n",
       "         2814,   708,  4468,  2508,  2533,  2971, 15007,   265,  2497,\n",
       "         2524,  7606,  2523,  2543,    98,  3307,  3899,  2773,   498,\n",
       "         2584,  2991, 15007,  2503,  2491,  2487,  5368,  3698,   500,\n",
       "         2508,  4271, 15008,   265,  1135, 10450,    98,  3425,  2496,\n",
       "          710,   498,  2486, 12203, 15008, 13496,  7752, 15007,  2500,\n",
       "         2731,   708,  2761,  2502,   499,   710,   498,  2486,  1222,\n",
       "        15009,    73,  6864,  6665, 15007,    98,  2529,  2588,  2491,\n",
       "         2487,  5368,  3757,  2486,  6864,  2730, 15008,  2495,  2578,\n",
       "        13496, 15009,    73,  2746,  4616,  2490,  2486,  3770, 15007,\n",
       "         2500,  2497,  2518,  3812, 15008,  2487,   265,  2921,   520,\n",
       "           49,  2267,    17,  2883,  1172,  1141,  2486,  5492,  2490,\n",
       "         2486,  1502,   104,   462,  2464, 15007,     2,     0,     0,\n",
       "            0,     0], dtype=int16),\n",
       " array([    1, 10259, 15009,    73, 10129,  3113,  5233,  2486,  3109,\n",
       "         2487,  4710, 10259,  2489,  2499, 12789, 15008,  3964,  1145,\n",
       "         2527,  2490,    98,  3264, 15007,     2,     0,     0,     0,\n",
       "            0,     0,     0,     0,     0], dtype=int16))"
      ]
     },
     "execution_count": 16,
     "metadata": {},
     "output_type": "execute_result"
    }
   ],
   "source": [
    "long_seq[10],short_seq[10]"
   ]
  },
  {
   "cell_type": "code",
   "execution_count": 17,
   "id": "2c86d4ae",
   "metadata": {},
   "outputs": [
    {
     "data": {
      "text/plain": [
       "array([    0,     1,     2,     3,     7,     8,     9,    10,    11,\n",
       "          12,    13,    14,    15,    16,    17,    18,    19,    20,\n",
       "          21,    22,    23,    24,    25,    26, 15007, 15008, 15009,\n",
       "       15010, 15011, 15012, 15013, 15014, 15015, 15016, 15017, 15018,\n",
       "       15019,     5,     6])"
      ]
     },
     "execution_count": 17,
     "metadata": {},
     "output_type": "execute_result"
    }
   ],
   "source": [
    "# get most frequent tokens, punctuations and special tokens\n",
    "# these tokens will not be masked\n",
    "\n",
    "stopwords = nltk.corpus.stopwords.words('english')\n",
    "\n",
    "def get_tok_k_tokens(k=20):\n",
    "    top_k = [0,1,2,3]\n",
    "    for token in tok.vocab:\n",
    "        top_k.append(tok.w2i[token])\n",
    "        if len(top_k) == k + 4:\n",
    "            break\n",
    "            \n",
    "    for p in tok.vocab:\n",
    "        if p in punctuation:\n",
    "            top_k.append(tok.w2i[p])\n",
    "    \n",
    "    more = ['USER','LINK']\n",
    "    more = [tok.w2i[t] for t in more]\n",
    "    \n",
    "    top_k = top_k + more\n",
    "    \n",
    "    return np.array(top_k)\n",
    "\n",
    "dont_mask_toks = get_tok_k_tokens()\n",
    "\n",
    "dont_mask_toks"
   ]
  },
  {
   "cell_type": "code",
   "execution_count": 18,
   "id": "142dddf9",
   "metadata": {},
   "outputs": [],
   "source": [
    "# sequence masking function\n",
    "\n",
    "def create_masked_data(sequence,vocab_size,for_train=True,dont_mask_toks=np.asarray([0,1,2,3],np.int32),minlen=9):\n",
    "    \n",
    "    seq = np.asarray(sequence,dtype=np.int16)\n",
    "    special_toks = np.array([0,1,2,3])\n",
    "    \n",
    "    # mask 12% of tokens\n",
    "    end = np.where(seq == 2)[0][0]\n",
    "    masked_seq = seq.copy()\n",
    "    sep_idx = np.where(seq == tok.w2i['<sep>'])[0][0]\n",
    "    n_mask = len(seq[1:sep_idx]) * 0.12 - 1\n",
    "    mask = ~np.isin(seq, dont_mask_toks)\n",
    "    \n",
    "    if not any(mask):\n",
    "        mask = ~np.isin(seq, special_toks)\n",
    "    \n",
    "    to_mask_idx = np.where(mask)[0]\n",
    "    to_mask_prob = n_mask/len(to_mask_idx)\n",
    "    probs = np.linspace(0,1,len(to_mask_idx))\n",
    "    np.random.shuffle(probs)\n",
    "    to_mask = masked_seq[to_mask_idx].copy()\n",
    "    to_mask = np.where(probs>=to_mask_prob,to_mask,tok.w2i['<mask>'])\n",
    "    masked_seq[to_mask_idx] = to_mask\n",
    "    masked_idx = np.where(masked_seq == tok.w2i['<mask>'])[0]\n",
    "\n",
    "    # replace 1% of tokens with random tokens (only for training data) \n",
    "    if for_train:\n",
    "        non_masked_idx = np.where(masked_seq > tok.w2i['<mask>'])[0]\n",
    "        num_tok_to_replace = int((len(seq) - 2) * 0.015)\n",
    "        rand_idx = non_masked_idx[np.random.randint(0,len(non_masked_idx)-1,num_tok_to_replace)]\n",
    "        rand_replacements = np.random.randint(len(tok.special_toks),vocab_size - len(tok.special_toks) - 1\n",
    "                                              ,num_tok_to_replace)\n",
    "        masked_seq[rand_idx] = rand_replacements\n",
    "\n",
    "    return seq,masked_seq"
   ]
  },
  {
   "cell_type": "code",
   "execution_count": 23,
   "id": "b10e4751",
   "metadata": {},
   "outputs": [
    {
     "name": "stdout",
     "output_type": "stream",
     "text": [
      "<cls> exactly two years later they return to the downtown club and the ' crime scene ' in order to celebrate their first meeting . sam has now transformed into being a private detective instead of police officer . when he and nancy sit at their table , sam is slipped a note from one of the singers , marge andrews . she wants to meet him in one of the club ' s dressing rooms . a while later he and nancy enter the dressing room , but find marge ' s body lying on the floor . she has been murdered , and sam sees st ##a ##in ##s probably left by the murderer on the rad ##i ##at ##or . <sep>\n",
      "\n",
      "<cls> exactly two years later they return to the downtown club and the ' crime scene ' in order to celebrate their <mask> meeting . sam has now transformed <mask> being a private detective instead of <mask> officer . when he and nancy sit at their table , sam is slipped <mask> <mask> from one <mask> the singers , <mask> andrews . she <mask> to meet him in one of <mask> club ' s dressing rooms . a while later he and <mask> enter <mask> pakistan room , but find <mask> ' s body lying on the floor . she has been <mask> , and sam sees <mask> ##a ##in ##s probably left by the murderer on the rad ##i ##at ##or . <sep>\n"
     ]
    }
   ],
   "source": [
    "# masking sample\n",
    "\n",
    "x,y = create_masked_data(long_seq[10],vocab_size=len(tok.i2w),for_train=True,dont_mask_toks=dont_mask_toks)\n",
    "\n",
    "print(' '.join([tok.i2w[t] for t in x if t>0]))\n",
    "print()\n",
    "print(' '.join([tok.i2w[t] for t in y if t>0]))"
   ]
  },
  {
   "cell_type": "code",
   "execution_count": 24,
   "id": "938592f1",
   "metadata": {},
   "outputs": [],
   "source": [
    "# for storing masked and original sequence data\n",
    "\n",
    "short_data = {'train':{'seq':[],'masked_seq':[]},\n",
    "                    'valid':{'seq':[],'masked_seq':[]}}\n",
    "\n",
    "long_data = {'train':{'seq':[],'masked_seq':[]},\n",
    "                    'valid':{'seq':[],'masked_seq':[]}}\n"
   ]
  },
  {
   "cell_type": "code",
   "execution_count": 25,
   "id": "e527999f",
   "metadata": {},
   "outputs": [],
   "source": [
    "np.random.shuffle(long_seq)\n",
    "np.random.shuffle(short_seq)"
   ]
  },
  {
   "cell_type": "code",
   "execution_count": 3,
   "id": "5a3e026d",
   "metadata": {
    "collapsed": true
   },
   "outputs": [
    {
     "ename": "NameError",
     "evalue": "name 'short_seq' is not defined",
     "output_type": "error",
     "traceback": [
      "\u001b[0;31m---------------------------------------------------------------------------\u001b[0m",
      "\u001b[0;31mNameError\u001b[0m                                 Traceback (most recent call last)",
      "Cell \u001b[0;32mIn[3], line 5\u001b[0m\n\u001b[1;32m      2\u001b[0m size \u001b[38;5;241m=\u001b[39m \u001b[38;5;28mlen\u001b[39m(tok\u001b[38;5;241m.\u001b[39mi2w)\n\u001b[1;32m      4\u001b[0m train_size \u001b[38;5;241m=\u001b[39m \u001b[38;5;28mint\u001b[39m(\u001b[38;5;241m2e+6\u001b[39m)\n\u001b[0;32m----> 5\u001b[0m val_size \u001b[38;5;241m=\u001b[39m \u001b[38;5;28mlen\u001b[39m(\u001b[43mshort_seq\u001b[49m) \u001b[38;5;241m-\u001b[39m train_size \u001b[38;5;241m-\u001b[39m \u001b[38;5;241m1\u001b[39m\n\u001b[1;32m      7\u001b[0m \u001b[38;5;28;01mfor\u001b[39;00m i,seq \u001b[38;5;129;01min\u001b[39;00m \u001b[38;5;28menumerate\u001b[39m(tqdm(short_seq)):\n\u001b[1;32m      9\u001b[0m     \u001b[38;5;28;01mif\u001b[39;00m i \u001b[38;5;241m<\u001b[39m\u001b[38;5;241m=\u001b[39m val_size:\n",
      "\u001b[0;31mNameError\u001b[0m: name 'short_seq' is not defined"
     ]
    }
   ],
   "source": [
    "# split training and validation data (90:10 ratio)\n",
    "# frequent tokens and punctuations will not be masked half of the time in training data\n",
    "\n",
    "train,valid = [],[]\n",
    "size = len(tok.i2w)\n",
    "\n",
    "train_size = int(2e+6)\n",
    "val_size = len(short_seq) - train_size - 1\n",
    "\n",
    "for i,seq in enumerate(tqdm(short_seq)):\n",
    "    \n",
    "    if i <= val_size:\n",
    "        if i % 2 == 0:\n",
    "            seq,masked_seq = create_masked_data(seq,size,for_train=False)\n",
    "        else:\n",
    "            seq,masked_seq = create_masked_data(seq,size,for_train=False,dont_mask_toks=dont_mask_toks)\n",
    "            \n",
    "        if len(seq) > 0:\n",
    "            valid.append((seq,masked_seq))\n",
    "        \n",
    "    else:\n",
    "        if i % 2 == 0:\n",
    "            seq,masked_seq = create_masked_data(seq,size,for_train=True)\n",
    "        else:\n",
    "            seq,masked_seq = create_masked_data(seq,size,for_train=True,dont_mask_toks=dont_mask_toks)\n",
    "        if len(seq) > 0:\n",
    "            train.append((seq,masked_seq))"
   ]
  },
  {
   "cell_type": "code",
   "execution_count": null,
   "id": "a49f5eb8",
   "metadata": {},
   "outputs": [],
   "source": [
    "# create short sequence pretraining data (1st phase)\n",
    "\n",
    "for seq,masked in train:\n",
    "    short_data['train']['masked_seq'].append(masked)\n",
    "    short_data['train']['seq'].append(seq)\n",
    "    \n",
    "for seq,masked in valid:\n",
    "    short_data['valid']['masked_seq'].append(masked)\n",
    "    short_data['valid']['seq'].append(seq)"
   ]
  },
  {
   "cell_type": "code",
   "execution_count": null,
   "id": "b4d2e68d",
   "metadata": {},
   "outputs": [
    {
     "data": {
      "application/vnd.jupyter.widget-view+json": {
       "model_id": "98a3d49b4a094a48b3c1af9abfa9c5bc",
       "version_major": 2,
       "version_minor": 0
      },
      "text/plain": [
       "  0%|          | 0/1136012 [00:00<?, ?it/s]"
      ]
     },
     "metadata": {},
     "output_type": "display_data"
    }
   ],
   "source": [
    "# long sequences\n",
    "# split training and validation data (90:10 ratio)\n",
    "# frequent tokens and punctuations will not be masked half of the time in training data\n",
    "\n",
    "train,valid = [],[]\n",
    "size = len(tok.i2w)\n",
    "\n",
    "train_size = int(1e+6)\n",
    "val_size = len(long_seq) - train_size - 1\n",
    "\n",
    "for i,seq in enumerate(tqdm(long_seq)):\n",
    "    \n",
    "    if i <= val_size:\n",
    "        if i % 2 == 0:\n",
    "            seq,masked_seq = create_masked_data(seq,size,for_train=False)\n",
    "        else:\n",
    "            seq,masked_seq = create_masked_data(seq,size,for_train=False,dont_mask_toks=dont_mask_toks)\n",
    "            \n",
    "        if len(seq) > 0:\n",
    "            valid.append((seq,masked_seq))\n",
    "        \n",
    "    else:\n",
    "        if i % 2 == 0:\n",
    "            seq,masked_seq = create_masked_data(seq,size,for_train=True)\n",
    "        else:\n",
    "            seq,masked_seq = create_masked_data(seq,size,for_train=True,dont_mask_toks=dont_mask_toks)\n",
    "        if len(seq) > 0:\n",
    "            train.append((seq,masked_seq))"
   ]
  },
  {
   "cell_type": "code",
   "execution_count": null,
   "id": "aabf9bae",
   "metadata": {},
   "outputs": [],
   "source": [
    "# create long sequence pretraining data (2nd phase)\n",
    "\n",
    "for seq,masked in train:\n",
    "    long_data['train']['masked_seq'].append(masked)\n",
    "    long_data['train']['seq'].append(seq)\n",
    "    \n",
    "for seq,masked in valid:\n",
    "    long_data['valid']['masked_seq'].append(masked)\n",
    "    long_data['valid']['seq'].append(seq)"
   ]
  },
  {
   "cell_type": "code",
   "execution_count": null,
   "id": "67154d21",
   "metadata": {},
   "outputs": [],
   "source": [
    "# convert sequenctial data to array from list\n",
    "\n",
    "short_data['train']['masked_seq'] = np.array(short_data['train']['masked_seq'],dtype=np.int16)\n",
    "short_data['valid']['masked_seq'] = np.array(short_data['valid']['masked_seq'],dtype=np.int16)\n",
    "short_data['train']['seq'] = np.array(short_data['train']['seq'],dtype=np.int16)\n",
    "short_data['valid']['seq'] = np.array(short_data['valid']['seq'],dtype=np.int16)\n",
    "\n",
    "long_data['train']['masked_seq'] = np.array(long_data['train']['masked_seq'],dtype=np.int16)\n",
    "long_data['valid']['masked_seq'] = np.array(long_data['valid']['masked_seq'],dtype=np.int16)\n",
    "long_data['train']['seq'] = np.array(long_data['train']['seq'],dtype=np.int16)\n",
    "long_data['valid']['seq'] = np.array(long_data['valid']['seq'],dtype=np.int16)"
   ]
  },
  {
   "cell_type": "code",
   "execution_count": null,
   "id": "449e3377",
   "metadata": {},
   "outputs": [],
   "source": [
    "# save the 2 pretraining data\n",
    "\n",
    "with open('short_pretraining_data.pkl','wb') as f:\n",
    "    pickle.dump(short_data,f)\n",
    "    \n",
    "with open('long_pretraining_data.pkl','wb') as f:\n",
    "    pickle.dump(long_data,f)"
   ]
  },
  {
   "cell_type": "code",
   "execution_count": null,
   "id": "c657d68a",
   "metadata": {},
   "outputs": [],
   "source": []
  }
 ],
 "metadata": {
  "kernelspec": {
   "display_name": "Python 3 (ipykernel)",
   "language": "python",
   "name": "python3"
  },
  "language_info": {
   "codemirror_mode": {
    "name": "ipython",
    "version": 3
   },
   "file_extension": ".py",
   "mimetype": "text/x-python",
   "name": "python",
   "nbconvert_exporter": "python",
   "pygments_lexer": "ipython3",
   "version": "3.12.3"
  }
 },
 "nbformat": 4,
 "nbformat_minor": 5
}
